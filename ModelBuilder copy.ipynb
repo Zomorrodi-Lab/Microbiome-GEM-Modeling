{
 "cells": [
  {
   "cell_type": "code",
   "execution_count": 1,
   "id": "0adbc81d",
   "metadata": {},
   "outputs": [],
   "source": [
    "import cobra\n",
    "import pandas as pd\n",
    "import scipy\n",
    "import docplex\n",
    "import cplex\n",
    "from src.compy import compy\n",
    "import os\n",
    "import sys\n",
    "\n",
    "src_path = os.path.abspath(os.path.join(os.getcwd(), 'src'))\n",
    "\n",
    "# Add to sys.path if not already there\n",
    "if src_path not in sys.path:\n",
    "    sys.path.insert(0, src_path)\n",
    "\n",
    "from src.diet_adaptation import *\n",
    "from tqdm import tqdm\n",
    "from optlang import Model as OptModel, Variable, Constraint, Objective\n",
    "from concurrent.futures import ProcessPoolExecutor\n",
    "import pandas as pd"
   ]
  },
  {
   "cell_type": "code",
   "execution_count": 2,
   "id": "1a874e49",
   "metadata": {},
   "outputs": [
    {
     "name": "stdout",
     "output_type": "stream",
     "text": [
      "----------Starting ComPy pipeline----------\n",
      "----------Reading abundance file----------\n",
      "**********Building global community model**********\n",
      "**********Added model: Bacteroides_cellulosilyticus_DSM_14838**********\n"
     ]
    },
    {
     "name": "stderr",
     "output_type": "stream",
     "text": [
      "No defined compartments in model model. Compartments will be deduced heuristically using regular expressions.\n",
      "Using regular expression found the following compartments:c, e\n",
      "c:\\Users\\agarg\\AppData\\Local\\Programs\\Python\\Python311\\Lib\\site-packages\\cobra\\core\\model.py:779: UserWarning: need to pass in a list\n",
      "  warn(\"need to pass in a list\")\n",
      "c:\\Users\\agarg\\AppData\\Local\\Programs\\Python\\Python311\\Lib\\site-packages\\cobra\\core\\group.py:147: UserWarning: need to pass in a list\n",
      "  warn(\"need to pass in a list\")\n",
      "No defined compartments in model model. Compartments will be deduced heuristically using regular expressions.\n",
      "Using regular expression found the following compartments:c, e\n"
     ]
    },
    {
     "name": "stdout",
     "output_type": "stream",
     "text": [
      "**********Added model: Parabacteroides_merdae_ATCC_43184**********\n"
     ]
    },
    {
     "name": "stderr",
     "output_type": "stream",
     "text": [
      "No defined compartments in model model. Compartments will be deduced heuristically using regular expressions.\n",
      "Using regular expression found the following compartments:c, e\n"
     ]
    },
    {
     "name": "stdout",
     "output_type": "stream",
     "text": [
      "**********Added model: Bacteroides_vulgatus_ATCC_8482**********\n"
     ]
    },
    {
     "name": "stderr",
     "output_type": "stream",
     "text": [
      "No defined compartments in model model. Compartments will be deduced heuristically using regular expressions.\n",
      "Using regular expression found the following compartments:c, e\n"
     ]
    },
    {
     "name": "stdout",
     "output_type": "stream",
     "text": [
      "**********Added model: Alistipes_putredinis_DSM_17216**********\n"
     ]
    },
    {
     "name": "stderr",
     "output_type": "stream",
     "text": [
      "No defined compartments in model model. Compartments will be deduced heuristically using regular expressions.\n",
      "Using regular expression found the following compartments:c, e\n"
     ]
    },
    {
     "name": "stdout",
     "output_type": "stream",
     "text": [
      "**********Added model: Bacteroides_sp_4_3_47FAA**********\n"
     ]
    },
    {
     "name": "stderr",
     "output_type": "stream",
     "text": [
      "No defined compartments in model model. Compartments will be deduced heuristically using regular expressions.\n",
      "Using regular expression found the following compartments:c, e\n"
     ]
    },
    {
     "name": "stdout",
     "output_type": "stream",
     "text": [
      "**********Added model: Bacteroides_caccae_ATCC_43185**********\n"
     ]
    },
    {
     "name": "stderr",
     "output_type": "stream",
     "text": [
      "No defined compartments in model model. Compartments will be deduced heuristically using regular expressions.\n",
      "Using regular expression found the following compartments:c, e\n"
     ]
    },
    {
     "name": "stdout",
     "output_type": "stream",
     "text": [
      "**********Added model: Burkholderiales_bacterium_1_1_47**********\n"
     ]
    },
    {
     "name": "stderr",
     "output_type": "stream",
     "text": [
      "No defined compartments in model model. Compartments will be deduced heuristically using regular expressions.\n",
      "Using regular expression found the following compartments:c, e\n"
     ]
    },
    {
     "name": "stdout",
     "output_type": "stream",
     "text": [
      "**********Added model: Bacteroides_sp_20_3**********\n"
     ]
    },
    {
     "name": "stderr",
     "output_type": "stream",
     "text": [
      "No defined compartments in model model. Compartments will be deduced heuristically using regular expressions.\n",
      "Using regular expression found the following compartments:c, e\n"
     ]
    },
    {
     "name": "stdout",
     "output_type": "stream",
     "text": [
      "**********Added model: Bacteroides_ovatus_ATCC_8483**********\n"
     ]
    },
    {
     "name": "stderr",
     "output_type": "stream",
     "text": [
      "No defined compartments in model model. Compartments will be deduced heuristically using regular expressions.\n",
      "Using regular expression found the following compartments:c, e\n"
     ]
    },
    {
     "name": "stdout",
     "output_type": "stream",
     "text": [
      "**********Added model: Bacteroides_sp_2_1_33B**********\n",
      "----------Finished adding GEM reconstructions to community----------\n",
      "----------Adding diet and fecal compartments----------\n",
      "----------Done adding diet and fecal compartments----------\n"
     ]
    },
    {
     "name": "stderr",
     "output_type": "stream",
     "text": [
      "Building sample models: 100%|██████████| 4/4 [01:59<00:00, 29.91s/it]\n"
     ]
    }
   ],
   "source": [
    "compy(abun_filepath=\"test_data_input/normCoverageReduced.csv\",\n",
    "     mod_filepath='test_data_input/AGORA103',\n",
    "     out_filepath=\"Python_Models2/Personalized\",\n",
    "     diet_filepath='test_data_input/AverageEU_diet_fluxes.txt',\n",
    "     workers=2)"
   ]
  },
  {
   "cell_type": "code",
   "execution_count": 9,
   "id": "f42f0838",
   "metadata": {},
   "outputs": [
    {
     "name": "stderr",
     "output_type": "stream",
     "text": [
      "No defined compartments in model model. Compartments will be deduced heuristically using regular expressions.\n",
      "Using regular expression found the following compartments:c, e\n",
      "No defined compartments in model model. Compartments will be deduced heuristically using regular expressions.\n",
      "Using regular expression found the following compartments:c, e\n",
      "No defined compartments in model model. Compartments will be deduced heuristically using regular expressions.\n",
      "Using regular expression found the following compartments:c, e\n",
      "No defined compartments in model model. Compartments will be deduced heuristically using regular expressions.\n",
      "Using regular expression found the following compartments:c, e\n",
      "No defined compartments in model model. Compartments will be deduced heuristically using regular expressions.\n",
      "Using regular expression found the following compartments:c, e\n",
      "No defined compartments in model model. Compartments will be deduced heuristically using regular expressions.\n",
      "Using regular expression found the following compartments:c, e\n",
      "No defined compartments in model model. Compartments will be deduced heuristically using regular expressions.\n",
      "Using regular expression found the following compartments:c, e\n",
      "No defined compartments in model model. Compartments will be deduced heuristically using regular expressions.\n",
      "Using regular expression found the following compartments:c, e\n",
      "No defined compartments in model model. Compartments will be deduced heuristically using regular expressions.\n",
      "Using regular expression found the following compartments:c, e\n",
      "No defined compartments in model model. Compartments will be deduced heuristically using regular expressions.\n",
      "Using regular expression found the following compartments:c, e\n"
     ]
    }
   ],
   "source": [
    "from src.diet_adaptation import *\n",
    "clean_samp_names, organisms, ex_mets = get_individual_size_name(\n",
    "    abun_file_path='test_data_input/normCoverageReduced.csv',\n",
    "    mod_path='test_data_input/AGORA103'\n",
    ")"
   ]
  },
  {
   "cell_type": "code",
   "execution_count": 11,
   "id": "66fe1d64",
   "metadata": {},
   "outputs": [
    {
     "name": "stderr",
     "output_type": "stream",
     "text": [
      "c:\\Users\\agarg\\research\\Microbiome-GEM-Modeling\\src\\diet_adaptation.py:165: FutureWarning: Setting an item of incompatible dtype is deprecated and will raise an error in a future version of pandas. Value '-187.5472124059008' has dtype incompatible with int64, please explicitly cast to a compatible dtype first.\n",
      "  diet_df.at[index, 'upper_bound'] = -0.8 * row['original_lb']\n"
     ]
    },
    {
     "name": "stdout",
     "output_type": "stream",
     "text": [
      "Got constraints, starting parallel processing\n"
     ]
    },
    {
     "name": "stderr",
     "output_type": "stream",
     "text": [
      "Processing samples: 100%|██████████| 4/4 [07:58<00:00, 119.70s/it]\n"
     ]
    },
    {
     "name": "stdout",
     "output_type": "stream",
     "text": [
      "All samples processed successfully\n"
     ]
    }
   ],
   "source": [
    "exchanges, net_production, net_uptake = simulate_microbiota_models(\n",
    "    samp_names=clean_samp_names,\n",
    "    ex_mets=ex_mets,\n",
    "    model_dir='Python_Models2/Personalized',\n",
    "    diet_file='test_data_input/AverageEU_diet_fluxes.txt',\n",
    "    res_path='Python_Models2',\n",
    "    lower_bm=0.4,\n",
    "    upper_bm=1.0,\n",
    "    solver='cplex',\n",
    "    workers=2\n",
    ")"
   ]
  },
  {
   "cell_type": "code",
   "execution_count": 12,
   "id": "7a8223b1",
   "metadata": {},
   "outputs": [
    {
     "data": {
      "application/vnd.microsoft.datawrangler.viewer.v0+json": {
       "columns": [
        {
         "name": "index",
         "rawType": "object",
         "type": "string"
        },
        {
         "name": "SRS011061",
         "rawType": "float64",
         "type": "float"
        },
        {
         "name": "SRS012902",
         "rawType": "float64",
         "type": "float"
        },
        {
         "name": "SRS011134",
         "rawType": "float64",
         "type": "float"
        },
        {
         "name": "SRS054956",
         "rawType": "float64",
         "type": "float"
        }
       ],
       "ref": "4a39c264-e405-45db-b499-59079fd8af8a",
       "rows": [
        [
         "EX_12dgr180[fe]",
         "0.0",
         "0.0",
         "0.0",
         "0.0"
        ],
        [
         "EX_12ppd_S[fe]",
         "0.0",
         "0.0",
         "0.0",
         "0.0"
        ],
        [
         "EX_26dap_M[fe]",
         "106.69217777215907",
         "109.97321069610689",
         "20.073655201381662",
         "0.0753089034285504"
        ],
        [
         "EX_2hyoxplac[fe]",
         "0.0009253538361087501",
         "3.177791788749999e-05",
         "0.0032476628176280734",
         "0.00011323634796000023"
        ],
        [
         "EX_2obut[fe]",
         "218.51106640424885",
         "136.85105071767651",
         "61.40203921798989",
         "55.40622559999999"
        ],
        [
         "EX_2omfuc[fe]",
         "0.0",
         "0.0",
         "0.0",
         "0.0"
        ],
        [
         "EX_2omxyl[fe]",
         "0.0",
         "0.0",
         "0.0",
         "0.0"
        ],
        [
         "EX_3ddlhept[fe]",
         "0.0",
         "0.0",
         "0.0",
         "0.0"
        ],
        [
         "EX_4abut[fe]",
         "119.18236959999999",
         "136.9169968",
         "58.379197600000005",
         "55.40622559999999"
        ],
        [
         "EX_4hbz[fe]",
         "0.000203865275652082",
         "7.001012733709455e-06",
         "0.0007154946029288567",
         "2.4947169817518544e-05"
        ],
        [
         "EX_4hpro_LT[fe]",
         "0.0",
         "0.0",
         "0.0",
         "0.0"
        ],
        [
         "EX_C02528[fe]",
         "20.0",
         "20.0",
         "19.999999999999986",
         "19.999999999999996"
        ],
        [
         "EX_Lcyst[fe]",
         "0.0",
         "0.0",
         "0.0",
         "0.0"
        ],
        [
         "EX_Ser_Thr[fe]",
         "9.0",
         "9.0",
         "9.0",
         "0.3051452"
        ],
        [
         "EX_T_antigen[fe]",
         "3.0",
         "3.0",
         "3.0",
         "0.3051452"
        ],
        [
         "EX_Tn_antigen[fe]",
         "9.0",
         "9.0",
         "9.0",
         "0.3051452"
        ],
        [
         "EX_Tyr_ggn[fe]",
         "0.0",
         "0.0",
         "0.0",
         "0.0"
        ],
        [
         "EX_ac[fe]",
         "295.1443068",
         "239.96515959999996",
         "180.76761280000002",
         "63.203860399999996"
        ],
        [
         "EX_acald[fe]",
         "27.077288",
         "109.205534",
         "15.478104",
         "0.0"
        ],
        [
         "EX_acerA[fe]",
         "0.0",
         "0.0",
         "0.0",
         "0.0"
        ],
        [
         "EX_acgal[fe]",
         "17.0",
         "17.0",
         "17.0",
         "6.3051452"
        ],
        [
         "EX_acgalglcur[fe]",
         "5.0",
         "5.0",
         "5.0",
         "5.0"
        ],
        [
         "EX_acgalidour2s[fe]",
         "1.0",
         "1.0",
         "1.0",
         "1.0"
        ],
        [
         "EX_acgalidour[fe]",
         "1.0",
         "1.0",
         "1.0",
         "1.0"
        ],
        [
         "EX_acgam[fe]",
         "162.3571058805515",
         "215.62601866422705",
         "70.4593208",
         "56.19393839999999"
        ],
        [
         "EX_acmana[fe]",
         "85.37640250320602",
         "0.8106755999999999",
         "8.861532100901274",
         "1.6384862929153268"
        ],
        [
         "EX_acnam[fe]",
         "3.0",
         "3.0",
         "3.0",
         "0.3051452"
        ],
        [
         "EX_ade[fe]",
         "73.21699517492898",
         "69.11388840298605",
         "20.087614",
         "0.07554560000000002"
        ],
        [
         "EX_adn[fe]",
         "67.66456314553284",
         "62.742942720721864",
         "33.84877972561684",
         "23.2966484342459"
        ],
        [
         "EX_adocbl[fe]",
         "0.0",
         "0.0",
         "0.0",
         "0.0"
        ],
        [
         "EX_ala_L[fe]",
         "150.4708031975602",
         "101.25837446120231",
         "144.87884162797536",
         "4.385360119823169"
        ],
        [
         "EX_alaasp[fe]",
         "0.0",
         "0.0",
         "0.0",
         "0.0"
        ],
        [
         "EX_alagln[fe]",
         "0.0",
         "0.0",
         "0.0",
         "0.0"
        ],
        [
         "EX_alaglu[fe]",
         "0.0",
         "0.0",
         "0.0",
         "0.0"
        ],
        [
         "EX_alagly[fe]",
         "0.0",
         "0.0",
         "0.0",
         "0.0"
        ],
        [
         "EX_alahis[fe]",
         "0.0",
         "0.0",
         "0.0",
         "0.0"
        ],
        [
         "EX_alaleu[fe]",
         "0.0",
         "0.0",
         "0.0",
         "0.0"
        ],
        [
         "EX_alathr[fe]",
         "0.0",
         "0.0",
         "0.0",
         "0.0"
        ],
        [
         "EX_amylopect900[fe]",
         "0.0",
         "0.0",
         "0.0",
         "0.0"
        ],
        [
         "EX_amylose300[fe]",
         "0.0",
         "0.0",
         "0.0",
         "0.0"
        ],
        [
         "EX_apio_D[fe]",
         "0.0",
         "0.0",
         "0.0",
         "0.0"
        ],
        [
         "EX_arab_L[fe]",
         "0.0",
         "0.0",
         "0.0",
         "0.0"
        ],
        [
         "EX_arabinan101[fe]",
         "0.0",
         "0.0",
         "0.0",
         "0.0"
        ],
        [
         "EX_arabinogal[fe]",
         "0.0",
         "0.0",
         "0.0",
         "0.0"
        ],
        [
         "EX_arabinoxyl[fe]",
         "0.0",
         "0.0",
         "0.0",
         "0.0"
        ],
        [
         "EX_arabttr[fe]",
         "0.0",
         "0.0",
         "0.0",
         "0.0"
        ],
        [
         "EX_arg_L[fe]",
         "111.22306481373153",
         "141.8735567574734",
         "39.68857891712352",
         "48.13121247184843"
        ],
        [
         "EX_arsenb[fe]",
         "0.0",
         "0.0",
         "0.0",
         "0.0"
        ],
        [
         "EX_asn_L[fe]",
         "245.78080334625145",
         "239.0552804477868",
         "88.2821648760551",
         "59.97929183717791"
        ],
        [
         "EX_asp_L[fe]",
         "0.0",
         "0.0",
         "0.0",
         "0.0"
        ]
       ],
       "shape": {
        "columns": 4,
        "rows": 296
       }
      },
      "text/html": [
       "<div>\n",
       "<style scoped>\n",
       "    .dataframe tbody tr th:only-of-type {\n",
       "        vertical-align: middle;\n",
       "    }\n",
       "\n",
       "    .dataframe tbody tr th {\n",
       "        vertical-align: top;\n",
       "    }\n",
       "\n",
       "    .dataframe thead th {\n",
       "        text-align: right;\n",
       "    }\n",
       "</style>\n",
       "<table border=\"1\" class=\"dataframe\">\n",
       "  <thead>\n",
       "    <tr style=\"text-align: right;\">\n",
       "      <th></th>\n",
       "      <th>SRS011061</th>\n",
       "      <th>SRS012902</th>\n",
       "      <th>SRS011134</th>\n",
       "      <th>SRS054956</th>\n",
       "    </tr>\n",
       "  </thead>\n",
       "  <tbody>\n",
       "    <tr>\n",
       "      <th>EX_12dgr180[fe]</th>\n",
       "      <td>0.000000</td>\n",
       "      <td>0.000000</td>\n",
       "      <td>0.000000</td>\n",
       "      <td>0.000000</td>\n",
       "    </tr>\n",
       "    <tr>\n",
       "      <th>EX_12ppd_S[fe]</th>\n",
       "      <td>0.000000</td>\n",
       "      <td>0.000000</td>\n",
       "      <td>0.000000</td>\n",
       "      <td>0.000000</td>\n",
       "    </tr>\n",
       "    <tr>\n",
       "      <th>EX_26dap_M[fe]</th>\n",
       "      <td>106.692178</td>\n",
       "      <td>109.973211</td>\n",
       "      <td>20.073655</td>\n",
       "      <td>0.075309</td>\n",
       "    </tr>\n",
       "    <tr>\n",
       "      <th>EX_2hyoxplac[fe]</th>\n",
       "      <td>0.000925</td>\n",
       "      <td>0.000032</td>\n",
       "      <td>0.003248</td>\n",
       "      <td>0.000113</td>\n",
       "    </tr>\n",
       "    <tr>\n",
       "      <th>EX_2obut[fe]</th>\n",
       "      <td>218.511066</td>\n",
       "      <td>136.851051</td>\n",
       "      <td>61.402039</td>\n",
       "      <td>55.406226</td>\n",
       "    </tr>\n",
       "    <tr>\n",
       "      <th>...</th>\n",
       "      <td>...</td>\n",
       "      <td>...</td>\n",
       "      <td>...</td>\n",
       "      <td>...</td>\n",
       "    </tr>\n",
       "    <tr>\n",
       "      <th>EX_xan[fe]</th>\n",
       "      <td>0.000000</td>\n",
       "      <td>0.000000</td>\n",
       "      <td>0.000000</td>\n",
       "      <td>0.000000</td>\n",
       "    </tr>\n",
       "    <tr>\n",
       "      <th>EX_xyl_D[fe]</th>\n",
       "      <td>0.000000</td>\n",
       "      <td>0.000000</td>\n",
       "      <td>0.000000</td>\n",
       "      <td>0.000000</td>\n",
       "    </tr>\n",
       "    <tr>\n",
       "      <th>EX_xylan[fe]</th>\n",
       "      <td>0.000000</td>\n",
       "      <td>0.000000</td>\n",
       "      <td>0.000000</td>\n",
       "      <td>0.000000</td>\n",
       "    </tr>\n",
       "    <tr>\n",
       "      <th>EX_xyluglc[fe]</th>\n",
       "      <td>0.000000</td>\n",
       "      <td>0.000000</td>\n",
       "      <td>0.000000</td>\n",
       "      <td>0.000000</td>\n",
       "    </tr>\n",
       "    <tr>\n",
       "      <th>EX_zn2[fe]</th>\n",
       "      <td>0.005439</td>\n",
       "      <td>0.003552</td>\n",
       "      <td>0.002376</td>\n",
       "      <td>0.001196</td>\n",
       "    </tr>\n",
       "  </tbody>\n",
       "</table>\n",
       "<p>296 rows × 4 columns</p>\n",
       "</div>"
      ],
      "text/plain": [
       "                   SRS011061   SRS012902  SRS011134  SRS054956\n",
       "EX_12dgr180[fe]     0.000000    0.000000   0.000000   0.000000\n",
       "EX_12ppd_S[fe]      0.000000    0.000000   0.000000   0.000000\n",
       "EX_26dap_M[fe]    106.692178  109.973211  20.073655   0.075309\n",
       "EX_2hyoxplac[fe]    0.000925    0.000032   0.003248   0.000113\n",
       "EX_2obut[fe]      218.511066  136.851051  61.402039  55.406226\n",
       "...                      ...         ...        ...        ...\n",
       "EX_xan[fe]          0.000000    0.000000   0.000000   0.000000\n",
       "EX_xyl_D[fe]        0.000000    0.000000   0.000000   0.000000\n",
       "EX_xylan[fe]        0.000000    0.000000   0.000000   0.000000\n",
       "EX_xyluglc[fe]      0.000000    0.000000   0.000000   0.000000\n",
       "EX_zn2[fe]          0.005439    0.003552   0.002376   0.001196\n",
       "\n",
       "[296 rows x 4 columns]"
      ]
     },
     "execution_count": 12,
     "metadata": {},
     "output_type": "execute_result"
    }
   ],
   "source": [
    "net_secretion_df, net_uptake_df = collect_flux_profiles(\n",
    "    samp_names=clean_samp_names,\n",
    "    exchanges=sorted(exchanges),\n",
    "    net_production=net_production,\n",
    "    net_uptake=net_uptake\n",
    ")\n",
    "net_secretion_df"
   ]
  },
  {
   "cell_type": "code",
   "execution_count": null,
   "id": "ceeb1ad6",
   "metadata": {},
   "outputs": [
    {
     "name": "stderr",
     "output_type": "stream",
     "text": [
      "c:\\Users\\agarg\\research\\Microbiome-GEM-Modeling\\src\\diet_adaptation.py:165: FutureWarning: Setting an item of incompatible dtype is deprecated and will raise an error in a future version of pandas. Value '-187.5472124059008' has dtype incompatible with int64, please explicitly cast to a compatible dtype first.\n",
      "  diet_df.at[index, 'upper_bound'] = -0.8 * row['original_lb']\n"
     ]
    },
    {
     "name": "stdout",
     "output_type": "stream",
     "text": [
      "Got constraints, starting parallel processing\n"
     ]
    },
    {
     "name": "stderr",
     "output_type": "stream",
     "text": [
      "Processing samples: 100%|██████████| 4/4 [06:13<00:00, 93.28s/it] \n"
     ]
    },
    {
     "name": "stdout",
     "output_type": "stream",
     "text": [
      "All samples processed successfully\n"
     ]
    }
   ],
   "source": [
    "compy(abun_filepath=\"test_data_input/normCoverageReduced.csv\",\n",
    "     mod_filepath='test_data_input/AGORA103',\n",
    "     out_filepath=\"Python_Models2/Personalized\",\n",
    "     diet_filepath='test_data_input/AverageEU_diet_fluxes.txt',\n",
    "     workers=2)\n",
    "\n",
    "clean_samp_names, organisms, ex_mets = get_individual_size_name(\n",
    "    abun_file_path='test_data_input/normCoverageReduced.csv',\n",
    "    mod_path='test_data_input/AGORA103'\n",
    ")\n",
    "\n",
    "exchanges, net_production, net_uptake = simulate_microbiota_models(\n",
    "    samp_names=clean_samp_names,\n",
    "    ex_mets=ex_mets,\n",
    "    model_dir='Python_Models2/Personalized',\n",
    "    diet_file='test_data_input/AverageEU_diet_fluxes.txt',\n",
    "    res_path='Python_Models2',\n",
    "    lower_bm=0.4,\n",
    "    upper_bm=1.0,\n",
    "    solver='cplex',\n",
    "    workers=2\n",
    ")\n",
    "\n",
    "net_secretion_df, net_uptake_df = collect_flux_profiles(\n",
    "    samp_names=clean_samp_names,\n",
    "    exchanges=sorted(exchanges),\n",
    "    net_production=net_production,\n",
    "    net_uptake=net_uptake\n",
    ")\n",
    "\n",
    "net_secretion_df.to_csv('python_net_secretion_fluxes.csv', index=True, index_label='Net secretion')\n",
    "net_uptake_df.to_csv('python_net_uptake_fluxes.csv', index=True, index_label='Net uptake')"
   ]
  },
  {
   "cell_type": "markdown",
   "id": "827ce325",
   "metadata": {},
   "source": [
    "## Make Python model equivalent of Matlab Feasible"
   ]
  },
  {
   "cell_type": "code",
   "execution_count": null,
   "id": "a932b089",
   "metadata": {},
   "outputs": [],
   "source": [
    "clean_samp_names, organisms, ex_mets = get_individual_size_name(\n",
    "    abun_file_path='test_data_input/normCoverageReduced.csv',\n",
    "    mod_path='test_data_input/AGORA103'\n",
    ")"
   ]
  },
  {
   "cell_type": "code",
   "execution_count": null,
   "id": "155454f9",
   "metadata": {},
   "outputs": [],
   "source": [
    "os.makedirs('Python_Models2\\Diet', exist_ok=True)\n",
    "exchanges = [f\"EX_{m.replace('[e]', '[fe]')}\" for m in ex_mets if m != 'biomass[e]']\n",
    "\n",
    "net_production = {}\n",
    "net_uptake = {}"
   ]
  },
  {
   "cell_type": "code",
   "execution_count": null,
   "id": "88ad22a3",
   "metadata": {},
   "outputs": [],
   "source": [
    "# define human-derived metabolites present in the gut: primary bile acids, amines, mucins, host glycans\n",
    "humanMets = {\n",
    "    'gchola': -10, 'tdchola': -10, 'tchola': -10, 'dgchol': -10,\n",
    "    '34dhphe': -10, '5htrp': -10, 'Lkynr': -10, 'f1a': -1,\n",
    "    'gncore1': -1, 'gncore2': -1, 'dsT_antigen': -1, 'sTn_antigen': -1,\n",
    "    'core8': -1, 'core7': -1, 'core5': -1, 'core4': -1,\n",
    "    'ha': -1, 'cspg_a': -1, 'cspg_b': -1, 'cspg_c': -1,\n",
    "    'cspg_d': -1, 'cspg_e': -1, 'hspg': -1\n",
    "}\n",
    "\n",
    "# Adapt diet\n",
    "diet_constraints = adapt_vmh_diet_to_agora('test_data_input/AverageEU_diet_fluxes.txt', setup_used='Microbiota')"
   ]
  },
  {
   "cell_type": "code",
   "execution_count": null,
   "id": "8e0f8784",
   "metadata": {},
   "outputs": [],
   "source": [
    "model = load_matlab_model('zzzresults\\microbiota_model_samp_SRS011061.mat')\n",
    "model_data = loadmat('zzzresults\\microbiota_model_samp_SRS011061.mat', simplify_cells=True)['model']\n",
    "model.solver = 'cplex'\n",
    "model.name = 'SRS011061'"
   ]
  },
  {
   "cell_type": "code",
   "execution_count": null,
   "id": "59cf3aca",
   "metadata": {},
   "outputs": [],
   "source": [
    "diet_rxns = [r.id for r in model.reactions if '[d]' in r.id and r.id.startswith('EX_')]\n",
    "for rxn_id in diet_rxns:\n",
    "    new_id = rxn_id.replace('EX_', 'Diet_EX_')\n",
    "    if new_id not in model.reactions:\n",
    "        model.reactions.get_by_id(rxn_id).id = new_id\n",
    "\n",
    "# First: Set ALL Diet_EX_ reactions to lower bound 0 (like useDiet does)\n",
    "for rxn in model.reactions:\n",
    "    if rxn.id.startswith('Diet_EX_'):\n",
    "        rxn.lower_bound = 0\n",
    "\n",
    "# Apply diet\n",
    "for _, row in diet_constraints.iterrows():\n",
    "    rxn = row['rxn_id']\n",
    "    if rxn in model.reactions:\n",
    "        model.reactions.get_by_id(rxn).lower_bound = float(row['lower_bound'])\n",
    "        if pd.notnull(row['upper_bound']):\n",
    "            model.reactions.get_by_id(rxn).upper_bound = float(row['upper_bound'])\n",
    "\n",
    "print(f\"Processing 'SRS011061': diet applied\")"
   ]
  },
  {
   "cell_type": "code",
   "execution_count": null,
   "id": "a8d0347a",
   "metadata": {},
   "outputs": [],
   "source": [
    "if 'communityBiomass' in model.reactions:\n",
    "    model.reactions.communityBiomass.lower_bound = 0.4\n",
    "    model.reactions.communityBiomass.upper_bound = 1.0\n",
    "\n",
    "for rxn in model.reactions:\n",
    "    if rxn.id.startswith('UFEt_') or rxn.id.startswith('DUt_') or rxn.id.startswith('EX_'):\n",
    "        rxn.upper_bound = 1e6\n",
    "\n",
    "# Change the bound of the humanMets if not included in the diet\n",
    "# BUT it is in the existing model's reactions\n",
    "for met_id, bound in humanMets.items():\n",
    "    rxn_id = f'Diet_EX_{met_id}[d]'\n",
    "    if rxn_id not in diet_constraints['rxn_id'].values and rxn_id in model.reactions:\n",
    "        model.reactions.get_by_id(rxn_id).bounds = bound, 10000.\n",
    "\n",
    "\n",
    "# close demand and limit sink reactions\n",
    "for rxn in model.reactions:\n",
    "    if '_DM_' in rxn.id:\n",
    "        rxn.lower_bound = 0\n",
    "    elif '_sink_' in rxn.id:\n",
    "        rxn.lower_bound = -1 "
   ]
  },
  {
   "cell_type": "code",
   "execution_count": null,
   "id": "3e875487",
   "metadata": {},
   "outputs": [],
   "source": [
    "for rxn in model.reactions:\n",
    "    if 'Diet_EX_adocbl[d]' in rxn.id:\n",
    "        print(rxn.id, rxn.bounds)"
   ]
  },
  {
   "cell_type": "code",
   "execution_count": null,
   "id": "a5f719c6",
   "metadata": {},
   "outputs": [],
   "source": [
    "model.objective = 'EX_microbeBiomass[fe]'\n",
    "model.optimize()"
   ]
  },
  {
   "cell_type": "code",
   "execution_count": null,
   "id": "ff76031b",
   "metadata": {},
   "outputs": [],
   "source": [
    "# Save the diet-adapted model\n",
    "save_dir = os.path.join('zzzresults', 'Diet')\n",
    "os.makedirs(save_dir, exist_ok=True)\n",
    "\n",
    "model_dict = make_mg_pipe_model_dict(\n",
    "    model, C=model_data['C'], d=model_data['d'], dsense=model_data['dsense'], ctrs=model_data['ctrs']\n",
    ")\n",
    "\n",
    "diet_model_path = os.path.join(save_dir, f\"microbiota_model_diet_SRS011061.mat\")\n",
    "savemat(diet_model_path, {'model': model_dict}, oned_as='column')"
   ]
  },
  {
   "cell_type": "code",
   "execution_count": null,
   "id": "e8c3d807",
   "metadata": {},
   "outputs": [],
   "source": [
    "fecal_rxn_ids = [model.reactions.index(rxn) for rxn in model.exchanges]\n",
    "\n",
    "diet_rxn_ids = [rxn.id.replace('EX_', 'Diet_EX_').replace('[fe]', '[d]') for rxn in model.exchanges]\n",
    "diet_rxn_ids = [model.reactions.index(model.reactions.get_by_id(rid)) for rid in diet_rxn_ids if rid in model.reactions]\n",
    "\n",
    "A, rhs, csense, lb, ub, c = build_constraint_matrix(diet_model_path)"
   ]
  },
  {
   "cell_type": "code",
   "execution_count": null,
   "id": "564b3394",
   "metadata": {},
   "outputs": [],
   "source": [
    "opt_model, vars, obj_expr = build_optlang_model(A, rhs, csense, lb, ub, c)"
   ]
  },
  {
   "cell_type": "code",
   "execution_count": null,
   "id": "5fb20a89",
   "metadata": {},
   "outputs": [],
   "source": [
    "opt_model.objective = Objective(obj_expr, direction='max')\n",
    "print(f'Model Status after optimization: {opt_model.optimize()}')"
   ]
  },
  {
   "cell_type": "code",
   "execution_count": null,
   "id": "95724ed6",
   "metadata": {},
   "outputs": [],
   "source": [
    "matmodel = cobra.io.load_matlab_model('Matlab_Models/Diet/microbiota_model_diet_SRS011061.mat')\n",
    "mfecal_rxn_ids = [matmodel.reactions.index(rxn) for rxn in matmodel.exchanges]\n",
    "\n",
    "mdiet_rxn_ids = [rxn.id.replace('EX_', 'Diet_EX_').replace('[fe]', '[d]') for rxn in matmodel.exchanges]\n",
    "mdiet_rxn_ids = [matmodel.reactions.index(matmodel.reactions.get_by_id(rid)) for rid in diet_rxn_ids if rid in matmodel.reactions]\n",
    "\n",
    "mA, mrhs, mcsense, mlb, mub, mc = build_constraint_matrix('Matlab_Models/Diet/microbiota_model_diet_SRS011061.mat')\n",
    "\n",
    "mopt_model, mvars, mobj_expr = build_optlang_model(mA, mrhs, mcsense, mlb, mub, mc)\n",
    "\n",
    "mopt_model.objective = Objective(mobj_expr, direction='max')\n",
    "print(f'Model Status after optimization: {mopt_model.optimize()}')"
   ]
  },
  {
   "cell_type": "code",
   "execution_count": null,
   "id": "20ddc04b",
   "metadata": {},
   "outputs": [],
   "source": [
    "import pandas as pd\n",
    "\n",
    "def normalize_expression(expr):\n",
    "    expr = '+' + expr\n",
    "    expr = expr.replace('- ', '-').replace('+- ', '-').replace('+-', '-').replace('+ ', '+')\n",
    "\n",
    "    def round_match(match):\n",
    "        num = float(match.group())\n",
    "        return f\"{round(num, 4)}\"\n",
    "\n",
    "    expr = re.sub(r'-?\\d+\\.\\d+', round_match, expr)\n",
    "    \n",
    "    expr_list = expr.split(' ')\n",
    "    return ' '.join(sorted(expr_list)) \n",
    "\n",
    "def build_expr_map(constraints, source):\n",
    "    expr_map = {}\n",
    "    for s in constraints:\n",
    "        expr = s.split(', ')[1]\n",
    "        lb = s.split(', ')[2]\n",
    "        ub = s.split(', ')[3]\n",
    "        norm_expr = normalize_expression(expr)\n",
    "        expr_map[norm_expr] = {'source': source, 'lb': lb, 'ub': ub}\n",
    "    return expr_map\n",
    "\n",
    "py_map = build_expr_map(pyconstraints, \"only_python\")\n",
    "mat_map = build_expr_map(matconstraints, \"only_matlab\")\n",
    "\n",
    "# Merge both with preference for \"both\" if found in both\n",
    "records = []\n",
    "\n",
    "all_exprs = set(py_map.keys()).union(set(mat_map.keys()))\n",
    "\n",
    "for expr in all_exprs:\n",
    "    if expr in py_map and expr in mat_map:\n",
    "        records.append({\n",
    "            'expression': expr,\n",
    "            'source': 'both',\n",
    "            'lb': (py_map[expr]['lb'], mat_map[expr]['lb']),\n",
    "            'ub': (py_map[expr]['ub'], mat_map[expr]['ub'])\n",
    "        })\n",
    "    elif expr in py_map:\n",
    "        records.append({\n",
    "            'expression': expr,\n",
    "            'source': 'only_python',\n",
    "            'lb': py_map[expr]['lb'],\n",
    "            'ub': py_map[expr]['ub']\n",
    "        })\n",
    "    else:\n",
    "        records.append({\n",
    "            'expression': expr,\n",
    "            'source': 'only_matlab',\n",
    "            'lb': mat_map[expr]['lb'],\n",
    "            'ub': mat_map[expr]['ub']\n",
    "        })\n",
    "\n",
    "common = len(set(py_map.keys()).intersection(set(mat_map.keys())))\n",
    "py = len(set(py_map.keys()) - set(mat_map.keys()))\n",
    "mat = len(set(py_map.keys()) - set(mat_map.keys()))\n",
    "\n",
    "print(common, py, mat)\n",
    "# Create the DataFrame\n",
    "df = pd.DataFrame(records)\n",
    "df"
   ]
  },
  {
   "cell_type": "code",
   "execution_count": null,
   "id": "d8c3dee8",
   "metadata": {},
   "outputs": [],
   "source": [
    "import pandas as pd\n",
    "\n",
    "def get_value_differences(dict1, dict2):\n",
    "    \"\"\"\n",
    "    Compares two dictionaries with the same keys and returns a new dictionary\n",
    "    containing only the keys where the values differ, along with their values\n",
    "    from both original dictionaries.\n",
    "    \"\"\"\n",
    "    diff_dict = {}\n",
    "    for key in dict1.keys():  # Assuming dict1 and dict2 have the same keys\n",
    "        if dict1[key] != dict2[key]:\n",
    "            diff_dict[key] = {'dict1_value': dict1[key], 'dict2_value': dict2[key]}\n",
    "    return diff_dict\n",
    "\n",
    "differences = get_value_differences(vars1, vars2)\n",
    "\n",
    "# Build row-by-row records from the differences\n",
    "diff_rows = []\n",
    "for rxn_id, val in differences.items():\n",
    "    lb1, ub1, flux1 = val['dict1_value']\n",
    "    lb2, ub2, flux2 = val['dict2_value']\n",
    "    diff_rows.append({\n",
    "        \"Reaction ID\": rxn_id,\n",
    "        \"Model1_LB\": lb1,\n",
    "        \"Model1_UB\": ub1,\n",
    "        \"Model1_Flux\": flux1,\n",
    "        \"Model2_LB\": lb2,\n",
    "        \"Model2_UB\": ub2,\n",
    "        \"Model2_Flux\": flux2,\n",
    "        \"Flux_Diff\": abs(flux1 - flux2)\n",
    "    })\n",
    "\n",
    "# Create and sort DataFrame\n",
    "df_diffs = pd.DataFrame(diff_rows)\n",
    "df_diffs = df_diffs.sort_values(by=\"Flux_Diff\", ascending=False)\n",
    "df_diffs"
   ]
  },
  {
   "cell_type": "code",
   "execution_count": null,
   "id": "2c3b66a7",
   "metadata": {},
   "outputs": [],
   "source": [
    "mopt_model.objective.value, opt_model.objective.value"
   ]
  },
  {
   "cell_type": "code",
   "execution_count": null,
   "id": "36048097",
   "metadata": {},
   "outputs": [],
   "source": [
    "for idx, rxn in enumerate(model.reactions):\n",
    "    if rxn.id == 'EX_microbeBiomass[fe]': print(idx, rxn.id, rxn.bounds)\n",
    "\n",
    "from cobra.flux_analysis import flux_variability_analysis\n",
    "fva = flux_variability_analysis(model, reaction_list=[\"EX_microbeBiomass[fe]\"], fraction_of_optimum=1.0)\n",
    "print(fva)"
   ]
  },
  {
   "cell_type": "markdown",
   "id": "f94edcd2",
   "metadata": {},
   "source": [
    "## Copy below but with Python Personalized Model"
   ]
  },
  {
   "cell_type": "code",
   "execution_count": null,
   "id": "f038d583",
   "metadata": {},
   "outputs": [],
   "source": [
    "\n",
    "personalized_path = 'Python_Models2\\Personalized\\pymicrobiota_model_samp_SRS011061.mat'\n",
    "\n",
    "model = cobra.io.load_matlab_model(personalized_path)\n",
    "\n",
    "samp_names = ['SRS011061']\n",
    "model_dir = 'test_data_input/AGORA103'\n",
    "diet_file = 'test_data_input\\AverageEU_diet_fluxes.txt'\n",
    "res_path = 'zzzresults/Matlab'\n",
    "lower_bm=0.4 \n",
    "upper_bm=1.0\n",
    "solver='cplex'\n",
    "\n",
    "os.makedirs(res_path, exist_ok=True)\n",
    "exchanges = [f\"EX_{m.replace('[e]', '[fe]')}\" for m in ex_mets if m != 'biomass[e]']\n",
    "\n",
    "net_production = {}\n",
    "net_uptake = {}\n",
    "\n",
    "# define human-derived metabolites present in the gut: primary bile acids, amines, mucins, host glycans\n",
    "humanMets = {\n",
    "    'gchola': -10, 'tdchola': -10, 'tchola': -10, 'dgchol': -10,\n",
    "    '34dhphe': -10, '5htrp': -10, 'Lkynr': -10, 'f1a': -1,\n",
    "    'gncore1': -1, 'gncore2': -1, 'dsT_antigen': -1, 'sTn_antigen': -1,\n",
    "    'core8': -1, 'core7': -1, 'core5': -1, 'core4': -1,\n",
    "    'ha': -1, 'cspg_a': -1, 'cspg_b': -1, 'cspg_c': -1,\n",
    "    'cspg_d': -1, 'cspg_e': -1, 'hspg': -1\n",
    "}\n",
    "\n",
    "# Adapt diet\n",
    "diet_constraints = adapt_vmh_diet_to_agora(diet_file, setup_used='Microbiota')\n",
    "\n",
    "for samp in tqdm(samp_names):\n",
    "    model = model\n",
    "    model_data = loadmat(personalized_path, simplify_cells=True)['model']\n",
    "    model.solver = solver\n",
    "    model.name = samp\n",
    "\n",
    "    print(f\"Processing {samp}: got model\")\n",
    "\n",
    "    # Before applying diet constraints, update reaction IDs in the model\n",
    "    diet_rxns = [r.id for r in model.reactions if '[d]' in r.id and r.id.startswith('EX_')]\n",
    "    for rxn_id in diet_rxns:\n",
    "        new_id = rxn_id.replace('EX_', 'Diet_EX_')\n",
    "        if new_id not in model.reactions:\n",
    "            model.reactions.get_by_id(rxn_id).id = new_id\n",
    "\n",
    "    # First: Set ALL Diet_EX_ reactions to lower bound 0 (like useDiet does)\n",
    "    for rxn in model.reactions:\n",
    "        if rxn.id.startswith('Diet_EX_'):\n",
    "            rxn.lower_bound = 0\n",
    "\n",
    "    # Apply diet\n",
    "    for _, row in diet_constraints.iterrows():\n",
    "        rxn = row['rxn_id']\n",
    "        if rxn in model.reactions:\n",
    "            model.reactions.get_by_id(rxn).lower_bound = float(row['lower_bound'])\n",
    "            if pd.notnull(row['upper_bound']):\n",
    "                model.reactions.get_by_id(rxn).upper_bound = float(row['upper_bound'])\n",
    "\n",
    "    print(f\"Processing {samp}: diet applied\")\n",
    "    \n",
    "    # Constrain community biomass\n",
    "    if 'communityBiomass' in model.reactions:\n",
    "        model.reactions.communityBiomass.lower_bound = lower_bm\n",
    "        model.reactions.communityBiomass.upper_bound = upper_bm\n",
    "\n",
    "    for rxn in model.reactions:\n",
    "        if rxn.id.startswith('UFEt_') or rxn.id.startswith('DUt_') or rxn.id.startswith('EX_'):\n",
    "            rxn.upper_bound = 1e6\n",
    "\n",
    "    # Change the bound of the humanMets if not included in the diet\n",
    "    # BUT it is in the existing model's reactions\n",
    "    for met_id, bound in humanMets.items():\n",
    "        rxn_id = f'Diet_EX_{met_id}[d]'\n",
    "        if rxn_id not in diet_constraints['rxn_id'].values and rxn_id in model.reactions:\n",
    "            model.reactions.get_by_id(rxn_id).bounds = bound, 10000.\n",
    "\n",
    "\n",
    "    # close demand and limit sink reactions\n",
    "    for rxn in model.reactions:\n",
    "        if '_DM_' in rxn.id:\n",
    "            rxn.lower_bound = 0\n",
    "        elif '_sink_' in rxn.id:\n",
    "            rxn.lower_bound = -1 \n",
    "\n",
    "    # Objective: EX_microbeBiomass[fe]\n",
    "    model.objective = 'EX_microbeBiomass[fe]'\n",
    "    model.optimize()"
   ]
  },
  {
   "cell_type": "code",
   "execution_count": null,
   "id": "4065b311",
   "metadata": {},
   "outputs": [],
   "source": [
    "save_dir = os.path.join('Python_Models2', 'Diet')\n",
    "os.makedirs(save_dir, exist_ok=True)\n",
    "\n",
    "model_dict = make_mg_pipe_model_dict(\n",
    "    model, C=model_data['C'], d=model_data['d'], dsense=model_data['dsense'], ctrs=model_data['ctrs']\n",
    ")\n",
    "\n",
    "diet_model_path = os.path.join(save_dir, f\"microbiota_model_diet_{samp}.mat\")\n",
    "savemat(diet_model_path, {'model': model_dict}, oned_as='column')\n",
    "\n",
    "print(f\"Processing {samp}: starting fva\")\n",
    "\n",
    "fecal_rxn_ids = [model.reactions.index(rxn) for rxn in model.exchanges]\n",
    "\n",
    "diet_rxn_ids = [rxn.id.replace('EX_', 'Diet_EX_').replace('[fe]', '[d]') for rxn in model.exchanges]\n",
    "diet_rxn_ids = [model.reactions.index(model.reactions.get_by_id(rid)) for rid in diet_rxn_ids if rid in model.reactions]\n",
    "\n",
    "A, rhs, csense, lb, ub, c = build_constraint_matrix(diet_model_path)\n",
    "opt_model, vars, obj_expr = build_optlang_model(A, rhs, csense, lb, ub, c)"
   ]
  },
  {
   "cell_type": "code",
   "execution_count": null,
   "id": "fda594d0",
   "metadata": {},
   "outputs": [],
   "source": [
    "opt_model.objective = Objective(obj_expr, direction='max')\n",
    "print(f'Model Status after optimization: {opt_model.optimize()}')"
   ]
  },
  {
   "cell_type": "code",
   "execution_count": null,
   "id": "d4cb7f39",
   "metadata": {},
   "outputs": [],
   "source": [
    "min_flux_fecal, max_flux_fecal = run_sequential_fva(opt_model, vars, obj_expr, fecal_rxn_ids, opt_percentage=99.99)\n",
    "min_flux_diet, max_flux_diet = run_sequential_fva(opt_model, vars, obj_expr, diet_rxn_ids, opt_percentage=99.99)\n",
    "\n",
    "net_production[samp] = {}\n",
    "net_uptake[samp] = {}\n",
    "\n",
    "\n",
    "# exchanges derived from exMets (all exchanged metabolites across all individual models) -> intersect it with rxns in this particular model\n",
    "fecal_rxns = [r.id for r in model.exchanges]\n",
    "diet_rxns = [rxn.replace('EX_', 'Diet_EX_').replace('[fe]', '[d]') for rxn in fecal_rxns]\n",
    "exchanges = set(fecal_rxns).intersection(set(exchanges))\n",
    "\n",
    "# cut off very small values below solver sensitivity\n",
    "tol = 1e-07\n",
    "fecal_var_map = dict(zip(fecal_rxns, max_flux_fecal))\n",
    "diet_var_map = dict(zip(diet_rxns, max_flux_diet))\n",
    "for rxn in fecal_rxns:\n",
    "    fecal = rxn\n",
    "    diet = rxn.replace('EX_', 'Diet_EX_').replace('[fe]', '[d]')\n",
    "    fecal_var = fecal_var_map.get(fecal, None)\n",
    "    diet_var = diet_var_map.get(diet, None)\n",
    "\n",
    "    if abs(max_flux_fecal.get(fecal_var, 0)) < tol: max_flux_fecal.get(fecal_var, 0) == 0\n",
    "\n",
    "    prod = abs(min_flux_diet.get(diet_var, 0) + max_flux_fecal.get(fecal_var, 0))\n",
    "    uptk = abs(max_flux_diet.get(diet_var, 0) + min_flux_fecal.get(fecal_var, 0))\n",
    "    net_production[samp][rxn] = prod\n",
    "    net_uptake[samp][rxn] = uptk\n",
    "\n",
    "exchanges = sorted(exchanges)\n",
    "\n",
    "prod_data = {samp: [net_production[samp].get(r, 0) for r in exchanges] for samp in samp_names}\n",
    "net_secretion_df = pd.DataFrame(prod_data, index=exchanges)\n",
    "\n",
    "net_secretion_df"
   ]
  },
  {
   "cell_type": "markdown",
   "id": "2cce973f",
   "metadata": {},
   "source": [
    "## Use personalized matlab to get diet using our codes"
   ]
  },
  {
   "cell_type": "code",
   "execution_count": null,
   "id": "0164cac6",
   "metadata": {},
   "outputs": [],
   "source": [
    "clean_samp_names, organisms, ex_mets = get_individual_size_name(\n",
    "    abun_file_path='test_data_input/normCoverageReduced.csv',\n",
    "    mod_path='test_data_input/AGORA103'\n",
    ")\n",
    "\n",
    "personalized_matmodel = cobra.io.load_matlab_model('Matlab_Models\\Personalized\\microbiota_model_samp_SRS011061.mat')"
   ]
  },
  {
   "cell_type": "code",
   "execution_count": null,
   "id": "ad5b5295",
   "metadata": {},
   "outputs": [],
   "source": [
    "samp_names = ['SRS011061']\n",
    "model_dir = 'test_data_input/AGORA103'\n",
    "diet_file = 'test_data_input\\AverageEU_diet_fluxes.txt'\n",
    "res_path = 'zzzresults/Matlab'\n",
    "lower_bm=0.4 \n",
    "upper_bm=1.0\n",
    "solver='cplex'\n",
    "\n",
    "os.makedirs(res_path, exist_ok=True)\n",
    "exchanges = [f\"EX_{m.replace('[e]', '[fe]')}\" for m in ex_mets if m != 'biomass[e]']\n",
    "\n",
    "net_production = {}\n",
    "net_uptake = {}\n",
    "\n",
    "# define human-derived metabolites present in the gut: primary bile acids, amines, mucins, host glycans\n",
    "humanMets = {\n",
    "    'gchola': -10, 'tdchola': -10, 'tchola': -10, 'dgchol': -10,\n",
    "    '34dhphe': -10, '5htrp': -10, 'Lkynr': -10, 'f1a': -1,\n",
    "    'gncore1': -1, 'gncore2': -1, 'dsT_antigen': -1, 'sTn_antigen': -1,\n",
    "    'core8': -1, 'core7': -1, 'core5': -1, 'core4': -1,\n",
    "    'ha': -1, 'cspg_a': -1, 'cspg_b': -1, 'cspg_c': -1,\n",
    "    'cspg_d': -1, 'cspg_e': -1, 'hspg': -1\n",
    "}\n",
    "\n",
    "# Adapt diet\n",
    "diet_constraints = adapt_vmh_diet_to_agora(diet_file, setup_used='Microbiota')"
   ]
  },
  {
   "cell_type": "code",
   "execution_count": null,
   "id": "3f4cdfe5",
   "metadata": {},
   "outputs": [],
   "source": [
    "for samp in tqdm(samp_names):\n",
    "    model = personalized_matmodel\n",
    "    model_data = loadmat('Matlab_Models\\Personalized\\microbiota_model_samp_SRS011061.mat', simplify_cells=True)['model']\n",
    "    model.solver = solver\n",
    "    model.name = samp\n",
    "\n",
    "    print(f\"Processing {samp}: got model\")\n",
    "\n",
    "    # Before applying diet constraints, update reaction IDs in the model\n",
    "    diet_rxns = [r.id for r in model.reactions if '[d]' in r.id and r.id.startswith('EX_')]\n",
    "    for rxn_id in diet_rxns:\n",
    "        new_id = rxn_id.replace('EX_', 'Diet_EX_')\n",
    "        if new_id not in model.reactions:\n",
    "            model.reactions.get_by_id(rxn_id).id = new_id\n",
    "\n",
    "    # First: Set ALL Diet_EX_ reactions to lower bound 0 (like useDiet does)\n",
    "    for rxn in model.reactions:\n",
    "        if rxn.id.startswith('Diet_EX_'):\n",
    "            rxn.lower_bound = 0\n",
    "\n",
    "    # Apply diet\n",
    "    for _, row in diet_constraints.iterrows():\n",
    "        rxn = row['rxn_id']\n",
    "        if rxn in model.reactions:\n",
    "            model.reactions.get_by_id(rxn).lower_bound = float(row['lower_bound'])\n",
    "            if pd.notnull(row['upper_bound']):\n",
    "                model.reactions.get_by_id(rxn).upper_bound = float(row['upper_bound'])\n",
    "\n",
    "    print(f\"Processing {samp}: diet applied\")\n",
    "    \n",
    "    # Constrain community biomass\n",
    "    if 'communityBiomass' in model.reactions:\n",
    "        model.reactions.communityBiomass.lower_bound = lower_bm\n",
    "        model.reactions.communityBiomass.upper_bound = upper_bm\n",
    "\n",
    "    for rxn in model.reactions:\n",
    "        if rxn.id.startswith('UFEt_') or rxn.id.startswith('DUt_') or rxn.id.startswith('EX_'):\n",
    "            rxn.upper_bound = 1e6\n",
    "\n",
    "    # Change the bound of the humanMets if not included in the diet\n",
    "    # BUT it is in the existing model's reactions\n",
    "    for met_id, bound in humanMets.items():\n",
    "        rxn_id = f'Diet_EX_{met_id}[d]'\n",
    "        if rxn_id not in diet_constraints['rxn_id'].values and rxn_id in model.reactions:\n",
    "            model.reactions.get_by_id(rxn_id).bounds = bound, 10000.\n",
    "\n",
    "\n",
    "    # close demand and limit sink reactions\n",
    "    for rxn in model.reactions:\n",
    "        if '_DM_' in rxn.id:\n",
    "            rxn.lower_bound = 0\n",
    "        elif '_sink_' in rxn.id:\n",
    "            rxn.lower_bound = -1 \n",
    "\n",
    "    # Objective: EX_microbeBiomass[fe]\n",
    "    model.objective = 'EX_microbeBiomass[fe]'\n",
    "    model.optimize()"
   ]
  },
  {
   "cell_type": "code",
   "execution_count": null,
   "id": "142da877",
   "metadata": {},
   "outputs": [],
   "source": [
    "save_dir = os.path.join(res_path, 'Diet')\n",
    "os.makedirs(save_dir, exist_ok=True)\n",
    "\n",
    "model_dict = make_mg_pipe_model_dict(\n",
    "    model, C=model_data['C'], d=model_data['d'], dsense=model_data['dsense'], ctrs=model_data['ctrs']\n",
    ")\n",
    "\n",
    "diet_model_path = os.path.join(save_dir, f\"microbiota_model_diet_{samp}.mat\")\n",
    "savemat(diet_model_path, {'model': model_dict}, oned_as='column')\n",
    "\n",
    "print(f\"Processing {samp}: starting fva\")"
   ]
  },
  {
   "cell_type": "code",
   "execution_count": null,
   "id": "9ad22ec8",
   "metadata": {},
   "outputs": [],
   "source": [
    "fecal_rxn_ids = [model.reactions.index(rxn) for rxn in model.exchanges]\n",
    "\n",
    "diet_rxn_ids = [rxn.id.replace('EX_', 'Diet_EX_').replace('[fe]', '[d]') for rxn in model.exchanges]\n",
    "diet_rxn_ids = [model.reactions.index(model.reactions.get_by_id(rid)) for rid in diet_rxn_ids if rid in model.reactions]\n",
    "\n",
    "A, rhs, csense, lb, ub, c = build_constraint_matrix(diet_model_path)\n",
    "opt_model, vars, obj_expr = build_optlang_model(A, rhs, csense, lb, ub, c)"
   ]
  },
  {
   "cell_type": "code",
   "execution_count": null,
   "id": "1aece08a",
   "metadata": {},
   "outputs": [],
   "source": [
    "min_flux_fecal, max_flux_fecal = run_sequential_fva(opt_model, vars, obj_expr, fecal_rxn_ids, opt_percentage=99.99)\n",
    "min_flux_diet, max_flux_diet = run_sequential_fva(opt_model, vars, obj_expr, diet_rxn_ids, opt_percentage=99.99)\n",
    "\n",
    "net_production[samp] = {}\n",
    "net_uptake[samp] = {}\n",
    "\n",
    "\n",
    "# exchanges derived from exMets (all exchanged metabolites across all individual models) -> intersect it with rxns in this particular model\n",
    "fecal_rxns = [r.id for r in model.exchanges]\n",
    "diet_rxns = [rxn.replace('EX_', 'Diet_EX_').replace('[fe]', '[d]') for rxn in fecal_rxns]\n",
    "exchanges = set(fecal_rxns).intersection(set(exchanges))\n",
    "\n",
    "# cut off very small values below solver sensitivity\n",
    "tol = 1e-07\n",
    "fecal_var_map = dict(zip(fecal_rxns, max_flux_fecal))\n",
    "diet_var_map = dict(zip(diet_rxns, max_flux_diet))\n",
    "for rxn in fecal_rxns:\n",
    "    fecal = rxn\n",
    "    diet = rxn.replace('EX_', 'Diet_EX_').replace('[fe]', '[d]')\n",
    "    fecal_var = fecal_var_map.get(fecal, None)\n",
    "    diet_var = diet_var_map.get(diet, None)\n",
    "\n",
    "    if abs(max_flux_fecal.get(fecal_var, 0)) < tol: max_flux_fecal.get(fecal_var, 0) == 0\n",
    "\n",
    "    prod = abs(min_flux_diet.get(diet_var, 0) + max_flux_fecal.get(fecal_var, 0))\n",
    "    uptk = abs(max_flux_diet.get(diet_var, 0) + min_flux_fecal.get(fecal_var, 0))\n",
    "    net_production[samp][rxn] = prod\n",
    "    net_uptake[samp][rxn] = uptk"
   ]
  },
  {
   "cell_type": "code",
   "execution_count": null,
   "id": "08d88f30",
   "metadata": {},
   "outputs": [],
   "source": [
    "exchanges = sorted(exchanges)\n",
    "\n",
    "prod_data = {samp: [net_production[samp].get(r, 0) for r in exchanges] for samp in samp_names}\n",
    "net_secretion_df = pd.DataFrame(prod_data, index=exchanges)\n",
    "\n",
    "net_secretion_df"
   ]
  }
 ],
 "metadata": {
  "kernelspec": {
   "display_name": "Python 3",
   "language": "python",
   "name": "python3"
  },
  "language_info": {
   "codemirror_mode": {
    "name": "ipython",
    "version": 3
   },
   "file_extension": ".py",
   "mimetype": "text/x-python",
   "name": "python",
   "nbconvert_exporter": "python",
   "pygments_lexer": "ipython3",
   "version": "3.11.9"
  }
 },
 "nbformat": 4,
 "nbformat_minor": 5
}
